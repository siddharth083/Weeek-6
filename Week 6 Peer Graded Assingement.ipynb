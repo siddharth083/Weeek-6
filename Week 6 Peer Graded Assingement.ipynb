{
 "cells": [
  {
   "attachments": {},
   "cell_type": "markdown",
   "id": "56b8509b",
   "metadata": {},
   "source": [
    "# Exercise 2"
   ]
  },
  {
   "cell_type": "markdown",
   "id": "881d722b",
   "metadata": {},
   "source": [
    "Welcome to this interactive document! In this markdown cell, we will provide you with a brief introduction to the topic at hand.\n",
    "\n",
    "We will learn about Data science in brief."
   ]
  },
  {
   "cell_type": "markdown",
   "id": "5415ae92",
   "metadata": {},
   "source": [
    "# Here's a list of 15 different data science languages:\n",
    "\n",
    "1. Python\n",
    "2. R\n",
    "3. SQL\n",
    "4. Java\n",
    "5. Scala\n",
    "6. Julia\n",
    "7. SAS\n",
    "8. MATLAB\n",
    "9. C++\n",
    "10. Perl\n",
    "11. Ruby\n",
    "12. JavaScript\n",
    "13. Swift\n",
    "14. Go (Golang)\n",
    "15. Kotlin"
   ]
  },
  {
   "cell_type": "markdown",
   "id": "72e3374e",
   "metadata": {},
   "source": [
    "# Here's a list of different data science libraries:\n",
    "\n",
    "1. NumPy\n",
    "2. Pandas\n",
    "3. Matplotlib\n",
    "4. Seaborn\n",
    "5. Scikit-learn\n",
    "6. TensorFlow\n",
    "7. Keras\n",
    "8. PyTorch\n",
    "9. Statsmodels\n",
    "10. NLTK (Natural Language Toolkit)\n",
    "11. SpaCy\n",
    "12. Gensim\n",
    "13. XGBoost\n",
    "14. LightGBM\n",
    "15. CatBoost"
   ]
  },
  {
   "cell_type": "markdown",
   "id": "feb89318",
   "metadata": {},
   "source": [
    "# Data Science Tools\n",
    "\n",
    "Below is a table listing some popular data science tools:\n",
    "\n",
    "| Tool           | Description                                               | Website                              |\n",
    "|----------------|-----------------------------------------------------------|--------------------------------------|\n",
    "| Python         | A widely used programming language for data science        | [python.org](https://www.python.org) |\n",
    "| R              | A statistical programming language                          | [r-project.org](https://www.r-project.org) |\n",
    "| Jupyter Notebook   | An interactive computing environment for data analysis    | [jupyter.org](https://jupyter.org)    |\n",
    "| Anaconda       | A Python distribution for data science and machine learning | [anaconda.com](https://www.anaconda.com) |\n",
    "| TensorFlow     | An open-source machine learning framework                  | [tensorflow.org](https://www.tensorflow.org) |\n",
    "| PyTorch        | An open-source deep learning framework                     | [pytorch.org](https://pytorch.org)    |\n",
    "| scikit-learn   | A machine learning library for Python                      | [scikit-learn.org](https://scikit-learn.org) |\n",
    "| pandas         | A data manipulation and analysis library for Python        | [pandas.pydata.org](https://pandas.pydata.org) |\n",
    "| NumPy          | A library for numerical computing with Python              | [numpy.org](https://numpy.org)        |\n",
    "| SQL            | A language for managing and analyzing relational databases | -                                    |\n",
    "\n",
    "Please note that the table above only includes a few popular tools, and there are many other tools available in the data science ecosystem."
   ]
  },
  {
   "cell_type": "markdown",
   "id": "22e07e61",
   "metadata": {},
   "source": [
    "# Introduction to Arithmetic Expressions \n",
    "\n",
    "In this markdown cell, we will introduce arithmetic expressions using a tabular format, along with examples to illustrate the concepts.\n",
    "\n",
    "An arithmetic expression involves the use of mathematical operators to perform calculations on numerical values. The basic arithmetic operators include addition (+), subtraction (-), multiplication (*), and division (/). Here's a table summarizing these operations:\n",
    "\n",
    "| Operator  | Description      | Example            | Result  |\n",
    "|-----------|------------------|--------------------|---------|\n",
    "| +         | Addition         | 5 + 3              | 8       |\n",
    "| -         | Subtraction      | 7 - 2              | 5       |\n",
    "| *         | Multiplication   | 4 * 6              | 24      |\n",
    "| /         | Division         | 10 / 2             | 5       |\n",
    "\n",
    "Arithmetic expressions can become more complex when parentheses are introduced to indicate the order of operations. Let's look at some examples with parentheses:\n",
    "\n",
    "1. Example: 2 * (3 + 4)\n",
    "\n",
    "2. Example: (10 - 4) / 2\n",
    "\n",
    "3. Example: 5 + 3 * 2\n",
    "   \n",
    "\n"
   ]
  },
  {
   "cell_type": "code",
   "execution_count": 1,
   "id": "d6e49dd0",
   "metadata": {},
   "outputs": [
    {
     "name": "stdout",
     "output_type": "stream",
     "text": [
      "Multiplication Result: 15\n",
      "Addition Result: 8\n"
     ]
    }
   ],
   "source": [
    "# Define two numbers\n",
    "num1 = 5\n",
    "num2 = 3\n",
    "\n",
    "# Perform multiplication\n",
    "result_multiply = num1 * num2\n",
    "\n",
    "# Perform addition\n",
    "result_add = num1 + num2\n",
    "\n",
    "# Display the results\n",
    "print(\"Multiplication Result:\", result_multiply)\n",
    "print(\"Addition Result:\", result_add)\n"
   ]
  },
  {
   "cell_type": "code",
   "execution_count": 2,
   "id": "19c47f6d",
   "metadata": {},
   "outputs": [
    {
     "name": "stdout",
     "output_type": "stream",
     "text": [
      "150 minutes is equal to 2.50 hours.\n"
     ]
    }
   ],
   "source": [
    "# Function to convert minutes to hours\n",
    "def minutes_to_hours(minutes):\n",
    "    hours = minutes / 60\n",
    "    return hours\n",
    "\n",
    "# Test the function with an example\n",
    "minutes_input = 150\n",
    "hours_output = minutes_to_hours(minutes_input)\n",
    "print(f\"{minutes_input} minutes is equal to {hours_output:.2f} hours.\")\n"
   ]
  },
  {
   "cell_type": "markdown",
   "id": "206cccb8",
   "metadata": {},
   "source": [
    "**Objectives**\n",
    "\n",
    "The above information serves the following objectives:\n",
    "\n",
    "1. **Demonstrate Arithmetic Operations**: The provided examples illustrate basic arithmetic operations, such as addition and multiplication, along with the use of parentheses to control the order of operations.\n",
    "\n",
    "2. **Introduction to Python Coding**: The Python code cell showcases how to perform arithmetic calculations and print results using variables and basic operators.\n",
    "\n",
    "3. **Conversion of Minutes to Hours**: The code cell demonstrates a practical use case by converting minutes to hours, allowing for easy time unit conversions in data analysis and real-world applications.\n",
    "\n",
    "By achieving these objectives, readers gain a foundational understanding of arithmetic expressions, Python coding concepts, and how to perform time unit conversions, thus laying the groundwork for further exploration in data science and programming endeavors."
   ]
  },
  {
   "cell_type": "markdown",
   "id": "af799e5c",
   "metadata": {},
   "source": [
    "# Author\n",
    "Manas Gupta"
   ]
  },
  {
   "cell_type": "code",
   "execution_count": null,
   "id": "8f77856b",
   "metadata": {},
   "outputs": [],
   "source": []
  }
 ],
 "metadata": {
  "kernelspec": {
   "display_name": "Python 3 (ipykernel)",
   "language": "python",
   "name": "python3"
  },
  "language_info": {
   "codemirror_mode": {
    "name": "ipython",
    "version": 3
   },
   "file_extension": ".py",
   "mimetype": "text/x-python",
   "name": "python",
   "nbconvert_exporter": "python",
   "pygments_lexer": "ipython3",
   "version": "3.10.6"
  }
 },
 "nbformat": 4,
 "nbformat_minor": 5
}
